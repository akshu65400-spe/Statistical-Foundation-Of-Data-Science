{
  "nbformat": 4,
  "nbformat_minor": 0,
  "metadata": {
    "colab": {
      "provenance": []
    },
    "kernelspec": {
      "name": "python3",
      "display_name": "Python 3"
    },
    "language_info": {
      "name": "python"
    }
  },
  "cells": [
    {
      "cell_type": "code",
      "execution_count": 16,
      "metadata": {
        "id": "NoQnzixqQ5N6"
      },
      "outputs": [],
      "source": [
        "import pandas as pd\n",
        "import numpy as np\n",
        "import matplotlib.pyplot as plt\n",
        "import seaborn as sns\n",
        "\n",
        "# Set seed for reproducibility\n",
        "np.random.seed(42)\n",
        "\n",
        "# Generate synthetic data\n",
        "unique_instructors = 94\n",
        "prof_names = [f\"Prof_{i}\" for i in range(1, unique_instructors + 1)]\n",
        "profs = np.random.choice(prof_names, size=n, replace=True)\n",
        "\n",
        "data = pd.DataFrame({\n",
        "    'prof': profs,\n",
        "    'gender': np.random.choice(['Male', 'Female'], size=n),\n",
        "    'beauty': np.round(np.random.normal(loc=3, scale=0.7, size=n), 2),\n",
        "    'students': np.random.randint(10, 300, size=n),\n",
        "    'tenure': np.random.choice(['Yes', 'No'], size=n, p=[0.6, 0.4]),\n",
        "    'rating': np.round(np.random.normal(loc=4, scale=0.5, size=n), 2),\n",
        "    'age': np.random.randint(30, 70, size=n),\n",
        "    'division': np.random.choice(['Lower', 'Upper'], size=n, p=[0.5, 0.5])  # Course level\n",
        "})\n",
        "\n",
        "# Clean up unrealistic values\n",
        "data['beauty'] = data['beauty'].clip(1, 5)\n",
        "data['rating'] = data['rating'].clip(1, 5)"
      ]
    },
    {
      "cell_type": "markdown",
      "source": [
        "\n",
        "# --- Q1: Time Series or Cross Sectional ---"
      ],
      "metadata": {
        "id": "R7xtRE9tRhxq"
      }
    },
    {
      "cell_type": "code",
      "source": [
        "print(\"Q1 Answer: Cross-sectional — data is collected at one point in time per instructor.\")"
      ],
      "metadata": {
        "colab": {
          "base_uri": "https://localhost:8080/"
        },
        "id": "KlcKTjEiRe6s",
        "outputId": "c28265a0-5c8f-446e-9167-aaada46ce264"
      },
      "execution_count": 24,
      "outputs": [
        {
          "output_type": "stream",
          "name": "stdout",
          "text": [
            "Q1 Answer: Cross-sectional — data is collected at one point in time per instructor.\n"
          ]
        }
      ]
    },
    {
      "cell_type": "markdown",
      "source": [
        "# --- Q2: Mean, Median, Min, Max of students --"
      ],
      "metadata": {
        "id": "UcWIlqsJRlBw"
      }
    },
    {
      "cell_type": "code",
      "source": [
        "print(\"\\nQ2: Student summary statistics\")\n",
        "print(\"Mean:\", data['students'].mean())\n",
        "print(\"Median:\", data['students'].median())\n",
        "print(\"Min:\", data['students'].min())\n",
        "print(\"Max:\", data['students'].max())"
      ],
      "metadata": {
        "colab": {
          "base_uri": "https://localhost:8080/"
        },
        "id": "2DDWOMH5Rozq",
        "outputId": "c4ccde87-d962-443a-c106-086e4b9e821b"
      },
      "execution_count": 18,
      "outputs": [
        {
          "output_type": "stream",
          "name": "stdout",
          "text": [
            "\n",
            "Q2: Student summary statistics\n",
            "Mean: 150.435\n",
            "Median: 142.5\n",
            "Min: 10\n",
            "Max: 298\n"
          ]
        }
      ]
    },
    {
      "cell_type": "markdown",
      "source": [
        "# --- Q3: Descriptive Statistics Table --"
      ],
      "metadata": {
        "id": "le-VZd1ARsyo"
      }
    },
    {
      "cell_type": "code",
      "source": [
        "print(\"\\nQ3: Descriptive Statistics Table\")\n",
        "print(data.describe())"
      ],
      "metadata": {
        "colab": {
          "base_uri": "https://localhost:8080/"
        },
        "id": "u4P8yzxYRwM7",
        "outputId": "c35748ce-407c-4a82-bef8-d99be4532598"
      },
      "execution_count": 19,
      "outputs": [
        {
          "output_type": "stream",
          "name": "stdout",
          "text": [
            "\n",
            "Q3: Descriptive Statistics Table\n",
            "           beauty    students      rating         age\n",
            "count  200.000000  200.000000  200.000000  200.000000\n",
            "mean     3.118600  150.435000    4.058900   50.090000\n",
            "std      0.691257   88.021558    0.518808   11.054088\n",
            "min      1.540000   10.000000    2.610000   30.000000\n",
            "25%      2.670000   73.500000    3.695000   41.000000\n",
            "50%      3.075000  142.500000    4.060000   50.500000\n",
            "75%      3.632500  235.000000    4.420000   60.000000\n",
            "max      4.670000  298.000000    5.000000   69.000000\n"
          ]
        }
      ]
    },
    {
      "cell_type": "markdown",
      "source": [
        "\n",
        "# --- Q4: Histogram of Beauty Variable ---\n"
      ],
      "metadata": {
        "id": "csfkXosiRzFg"
      }
    },
    {
      "cell_type": "code",
      "source": [
        "plt.figure(figsize=(8,5))\n",
        "sns.histplot(data['beauty'], bins=10, kde=True, color='skyblue')\n",
        "plt.title('Histogram of Beauty Scores')\n",
        "plt.xlabel('Beauty Score')\n",
        "plt.ylabel('Frequency')\n",
        "plt.grid(True)\n",
        "plt.show()\n",
        "\n",
        "# Comment on distribution\n",
        "print(\"\\nQ4 Comment:\")\n",
        "print(\"The beauty scores appear to follow a roughly normal distribution centered around 3, with few extreme values.\")"
      ],
      "metadata": {
        "colab": {
          "base_uri": "https://localhost:8080/",
          "height": 539
        },
        "id": "-bgzfeL_R1wb",
        "outputId": "f60076e3-de51-45c3-9d0b-43dfa112434e"
      },
      "execution_count": 20,
      "outputs": [
        {
          "output_type": "display_data",
          "data": {
            "text/plain": [
              "<Figure size 800x500 with 1 Axes>"
            ],
            "image/png": "[encoded data removed]"
          },
          "metadata": {}
        },
        {
          "output_type": "stream",
          "name": "stdout",
          "text": [
            "\n",
            "Q4 Comment:\n",
            "The beauty scores appear to follow a roughly normal distribution centered around 3, with few extreme values.\n"
          ]
        }
      ]
    },
    {
      "cell_type": "markdown",
      "source": [
        "# --- Q5: Average beauty score by gender ---\n"
      ],
      "metadata": {
        "id": "yeamCs1mR569"
      }
    },
    {
      "cell_type": "code",
      "source": [
        "print(\"\\nQ5: Beauty score by gender\")\n",
        "beauty_stats = data.groupby('gender')['beauty'].agg(['mean', 'std'])\n",
        "print(beauty_stats)"
      ],
      "metadata": {
        "colab": {
          "base_uri": "https://localhost:8080/"
        },
        "id": "s4qkARJwR8o3",
        "outputId": "d0ba9336-bb5e-4786-bc21-225e0847caba"
      },
      "execution_count": 21,
      "outputs": [
        {
          "output_type": "stream",
          "name": "stdout",
          "text": [
            "\n",
            "Q5: Beauty score by gender\n",
            "            mean       std\n",
            "gender                    \n",
            "Female  3.231000  0.654063\n",
            "Male    2.981222  0.713995\n"
          ]
        }
      ]
    },
    {
      "cell_type": "markdown",
      "source": [
        "\n",
        "# --- Q6: Tenure status by gender --\n"
      ],
      "metadata": {
        "id": "tsR6IVuYSAI8"
      }
    },
    {
      "cell_type": "code",
      "source": [
        "tenure_gender_counts = data.groupby(['gender', 'tenure']).size().unstack()\n",
        "tenure_gender_percent = tenure_gender_counts.div(tenure_gender_counts.sum(axis=1), axis=0) * 100\n",
        "\n",
        "print(\"\\nQ6: Percentage of Tenured Professors by Gender\")\n",
        "print(tenure_gender_percent)\n",
        "\n",
        "print(\"\\nComment:\")\n",
        "if abs(tenure_gender_percent.loc['Male', 'Yes'] - tenure_gender_percent.loc['Female', 'Yes']) > 10:\n",
        "    print(\"There appears to be a notable difference in tenure status by gender.\")\n",
        "else:\n",
        "    print(\"Tenure status does not differ significantly by gender.\")"
      ],
      "metadata": {
        "colab": {
          "base_uri": "https://localhost:8080/"
        },
        "id": "6Dr_V8seSA8T",
        "outputId": "f51f8328-4347-460c-d4aa-60327741ea60"
      },
      "execution_count": 22,
      "outputs": [
        {
          "output_type": "stream",
          "name": "stdout",
          "text": [
            "\n",
            "Q6: Percentage of Tenured Professors by Gender\n",
            "tenure         No        Yes\n",
            "gender                      \n",
            "Female  37.272727  62.727273\n",
            "Male    41.111111  58.888889\n",
            "\n",
            "Comment:\n",
            "Tenure status does not differ significantly by gender.\n"
          ]
        }
      ]
    },
    {
      "cell_type": "code",
      "source": [
        "data.to_csv('data.csv', index=False)\n"
      ],
      "metadata": {
        "id": "IBozP5WQTrdG"
      },
      "execution_count": 23,
      "outputs": []
    }
  ]
}