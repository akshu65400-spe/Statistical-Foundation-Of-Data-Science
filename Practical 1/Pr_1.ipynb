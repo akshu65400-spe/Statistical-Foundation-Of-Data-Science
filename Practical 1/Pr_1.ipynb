{
  "nbformat": 4,
  "nbformat_minor": 0,
  "metadata": {
    "colab": {
      "provenance": []
    },
    "kernelspec": {
      "name": "python3",
      "display_name": "Python 3"
    },
    "language_info": {
      "name": "python"
    }
  },
  "cells": [
    {
      "cell_type": "markdown",
      "source": [
        "Creating a Synthatic dataset"
      ],
      "metadata": {
        "id": "CsQngLeXlkl9"
      }
    },
    {
      "cell_type": "code",
      "source": [
        "import numpy as np\n",
        "import pandas as pd"
      ],
      "metadata": {
        "id": "9Sn74B0NlmU5"
      },
      "execution_count": 1,
      "outputs": []
    },
    {
      "cell_type": "code",
      "source": [
        "np.random.seed(42)\n",
        "n = 50\n",
        "data = {\n",
        "    \"ID\": np.arange(1, n+1),  # unique IDs\n",
        "    \"Age\": np.random.randint(20, 60, size=n),  # ages between 20–60\n",
        "    \"Income\": np.random.randint(30000, 100000, size=n).astype(float),  # income values\n",
        "    \"Education\": np.random.choice([\"High School\", \"Graduate\", \"Postgraduate\"], size=n)  # categorical\n",
        "}\n",
        "df = pd.DataFrame(data)\n",
        "df.head()"
      ],
      "metadata": {
        "colab": {
          "base_uri": "https://localhost:8080/",
          "height": 206
        },
        "id": "A6Z6bvjSlpJD",
        "outputId": "b15715b8-dbe2-4f31-bbc6-3988f79d267b"
      },
      "execution_count": 2,
      "outputs": [
        {
          "output_type": "execute_result",
          "data": {
            "text/plain": [
              "   ID  Age   Income     Education\n",
              "0   1   58  97121.0  Postgraduate\n",
              "1   2   48  99479.0  Postgraduate\n",
              "2   3   34  49457.0   High School\n",
              "3   4   27  96557.0  Postgraduate\n",
              "4   5   40  82995.0   High School"
            ],
            "text/html": [
              "\n",
              "  <div id=\"df-e30cd2e8-0d47-485c-943d-0192029030d6\" class=\"colab-df-container\">\n",
              "    <div>\n",
              "<style scoped>\n",
              "    .dataframe tbody tr th:only-of-type {\n",
              "        vertical-align: middle;\n",
              "    }\n",
              "\n",
              "    .dataframe tbody tr th {\n",
              "        vertical-align: top;\n",
              "    }\n",
              "\n",
              "    .dataframe thead th {\n",
              "        text-align: right;\n",
              "    }\n",
              "</style>\n",
              "<table border=\"1\" class=\"dataframe\">\n",
              "  <thead>\n",
              "    <tr style=\"text-align: right;\">\n",
              "      <th></th>\n",
              "      <th>ID</th>\n",
              "      <th>Age</th>\n",
              "      <th>Income</th>\n",
              "      <th>Education</th>\n",
              "    </tr>\n",
              "  </thead>\n",
              "  <tbody>\n",
              "    <tr>\n",
              "      <th>0</th>\n",
              "      <td>1</td>\n",
              "      <td>58</td>\n",
              "      <td>97121.0</td>\n",
              "      <td>Postgraduate</td>\n",
              "    </tr>\n",
              "    <tr>\n",
              "      <th>1</th>\n",
              "      <td>2</td>\n",
              "      <td>48</td>\n",
              "      <td>99479.0</td>\n",
              "      <td>Postgraduate</td>\n",
              "    </tr>\n",
              "    <tr>\n",
              "      <th>2</th>\n",
              "      <td>3</td>\n",
              "      <td>34</td>\n",
              "      <td>49457.0</td>\n",
              "      <td>High School</td>\n",
              "    </tr>\n",
              "    <tr>\n",
              "      <th>3</th>\n",
              "      <td>4</td>\n",
              "      <td>27</td>\n",
              "      <td>96557.0</td>\n",
              "      <td>Postgraduate</td>\n",
              "    </tr>\n",
              "    <tr>\n",
              "      <th>4</th>\n",
              "      <td>5</td>\n",
              "      <td>40</td>\n",
              "      <td>82995.0</td>\n",
              "      <td>High School</td>\n",
              "    </tr>\n",
              "  </tbody>\n",
              "</table>\n",
              "</div>\n",
              "    <div class=\"colab-df-buttons\">\n",
              "\n",
              "  <div class=\"colab-df-container\">\n",
              "    <button class=\"colab-df-convert\" onclick=\"convertToInteractive('df-e30cd2e8-0d47-485c-943d-0192029030d6')\"\n",
              "            title=\"Convert this dataframe to an interactive table.\"\n",
              "            style=\"display:none;\">\n",
              "\n",
              "  <svg xmlns=\"http://www.w3.org/2000/svg\" height=\"24px\" viewBox=\"0 -960 960 960\">\n",
              "    <path d=\"M120-120v-720h720v720H120Zm60-500h600v-160H180v160Zm220 220h160v-160H400v160Zm0 220h160v-160H400v160ZM180-400h160v-160H180v160Zm440 0h160v-160H620v160ZM180-180h160v-160H180v160Zm440 0h160v-160H620v160Z\"/>\n",
              "  </svg>\n",
              "    </button>\n",
              "\n",
              "  <style>\n",
              "    .colab-df-container {\n",
              "      display:flex;\n",
              "      gap: 12px;\n",
              "    }\n",
              "\n",
              "    .colab-df-convert {\n",
              "      background-color: #E8F0FE;\n",
              "      border: none;\n",
              "      border-radius: 50%;\n",
              "      cursor: pointer;\n",
              "      display: none;\n",
              "      fill: #1967D2;\n",
              "      height: 32px;\n",
              "      padding: 0 0 0 0;\n",
              "      width: 32px;\n",
              "    }\n",
              "\n",
              "    .colab-df-convert:hover {\n",
              "      background-color: #E2EBFA;\n",
              "      box-shadow: 0px 1px 2px rgba(60, 64, 67, 0.3), 0px 1px 3px 1px rgba(60, 64, 67, 0.15);\n",
              "      fill: #174EA6;\n",
              "    }\n",
              "\n",
              "    .colab-df-buttons div {\n",
              "      margin-bottom: 4px;\n",
              "    }\n",
              "\n",
              "    [theme=dark] .colab-df-convert {\n",
              "      background-color: #3B4455;\n",
              "      fill: #D2E3FC;\n",
              "    }\n",
              "\n",
              "    [theme=dark] .colab-df-convert:hover {\n",
              "      background-color: #434B5C;\n",
              "      box-shadow: 0px 1px 3px 1px rgba(0, 0, 0, 0.15);\n",
              "      filter: drop-shadow(0px 1px 2px rgba(0, 0, 0, 0.3));\n",
              "      fill: #FFFFFF;\n",
              "    }\n",
              "  </style>\n",
              "\n",
              "    <script>\n",
              "      const buttonEl =\n",
              "        document.querySelector('#df-e30cd2e8-0d47-485c-943d-0192029030d6 button.colab-df-convert');\n",
              "      buttonEl.style.display =\n",
              "        google.colab.kernel.accessAllowed ? 'block' : 'none';\n",
              "\n",
              "      async function convertToInteractive(key) {\n",
              "        const element = document.querySelector('#df-e30cd2e8-0d47-485c-943d-0192029030d6');\n",
              "        const dataTable =\n",
              "          await google.colab.kernel.invokeFunction('convertToInteractive',\n",
              "                                                    [key], {});\n",
              "        if (!dataTable) return;\n",
              "\n",
              "        const docLinkHtml = 'Like what you see? Visit the ' +\n",
              "          '<a target=\"_blank\" href=https://colab.research.google.com/notebooks/data_table.ipynb>data table notebook</a>'\n",
              "          + ' to learn more about interactive tables.';\n",
              "        element.innerHTML = '';\n",
              "        dataTable['output_type'] = 'display_data';\n",
              "        await google.colab.output.renderOutput(dataTable, element);\n",
              "        const docLink = document.createElement('div');\n",
              "        docLink.innerHTML = docLinkHtml;\n",
              "        element.appendChild(docLink);\n",
              "      }\n",
              "    </script>\n",
              "  </div>\n",
              "\n",
              "\n",
              "    <div id=\"df-e62a876e-ac75-45aa-a9e7-7973bd0905de\">\n",
              "      <button class=\"colab-df-quickchart\" onclick=\"quickchart('df-e62a876e-ac75-45aa-a9e7-7973bd0905de')\"\n",
              "                title=\"Suggest charts\"\n",
              "                style=\"display:none;\">\n",
              "\n",
              "<svg xmlns=\"http://www.w3.org/2000/svg\" height=\"24px\"viewBox=\"0 0 24 24\"\n",
              "     width=\"24px\">\n",
              "    <g>\n",
              "        <path d=\"M19 3H5c-1.1 0-2 .9-2 2v14c0 1.1.9 2 2 2h14c1.1 0 2-.9 2-2V5c0-1.1-.9-2-2-2zM9 17H7v-7h2v7zm4 0h-2V7h2v10zm4 0h-2v-4h2v4z\"/>\n",
              "    </g>\n",
              "</svg>\n",
              "      </button>\n",
              "\n",
              "<style>\n",
              "  .colab-df-quickchart {\n",
              "      --bg-color: #E8F0FE;\n",
              "      --fill-color: #1967D2;\n",
              "      --hover-bg-color: #E2EBFA;\n",
              "      --hover-fill-color: #174EA6;\n",
              "      --disabled-fill-color: #AAA;\n",
              "      --disabled-bg-color: #DDD;\n",
              "  }\n",
              "\n",
              "  [theme=dark] .colab-df-quickchart {\n",
              "      --bg-color: #3B4455;\n",
              "      --fill-color: #D2E3FC;\n",
              "      --hover-bg-color: #434B5C;\n",
              "      --hover-fill-color: #FFFFFF;\n",
              "      --disabled-bg-color: #3B4455;\n",
              "      --disabled-fill-color: #666;\n",
              "  }\n",
              "\n",
              "  .colab-df-quickchart {\n",
              "    background-color: var(--bg-color);\n",
              "    border: none;\n",
              "    border-radius: 50%;\n",
              "    cursor: pointer;\n",
              "    display: none;\n",
              "    fill: var(--fill-color);\n",
              "    height: 32px;\n",
              "    padding: 0;\n",
              "    width: 32px;\n",
              "  }\n",
              "\n",
              "  .colab-df-quickchart:hover {\n",
              "    background-color: var(--hover-bg-color);\n",
              "    box-shadow: 0 1px 2px rgba(60, 64, 67, 0.3), 0 1px 3px 1px rgba(60, 64, 67, 0.15);\n",
              "    fill: var(--button-hover-fill-color);\n",
              "  }\n",
              "\n",
              "  .colab-df-quickchart-complete:disabled,\n",
              "  .colab-df-quickchart-complete:disabled:hover {\n",
              "    background-color: var(--disabled-bg-color);\n",
              "    fill: var(--disabled-fill-color);\n",
              "    box-shadow: none;\n",
              "  }\n",
              "\n",
              "  .colab-df-spinner {\n",
              "    border: 2px solid var(--fill-color);\n",
              "    border-color: transparent;\n",
              "    border-bottom-color: var(--fill-color);\n",
              "    animation:\n",
              "      spin 1s steps(1) infinite;\n",
              "  }\n",
              "\n",
              "  @keyframes spin {\n",
              "    0% {\n",
              "      border-color: transparent;\n",
              "      border-bottom-color: var(--fill-color);\n",
              "      border-left-color: var(--fill-color);\n",
              "    }\n",
              "    20% {\n",
              "      border-color: transparent;\n",
              "      border-left-color: var(--fill-color);\n",
              "      border-top-color: var(--fill-color);\n",
              "    }\n",
              "    30% {\n",
              "      border-color: transparent;\n",
              "      border-left-color: var(--fill-color);\n",
              "      border-top-color: var(--fill-color);\n",
              "      border-right-color: var(--fill-color);\n",
              "    }\n",
              "    40% {\n",
              "      border-color: transparent;\n",
              "      border-right-color: var(--fill-color);\n",
              "      border-top-color: var(--fill-color);\n",
              "    }\n",
              "    60% {\n",
              "      border-color: transparent;\n",
              "      border-right-color: var(--fill-color);\n",
              "    }\n",
              "    80% {\n",
              "      border-color: transparent;\n",
              "      border-right-color: var(--fill-color);\n",
              "      border-bottom-color: var(--fill-color);\n",
              "    }\n",
              "    90% {\n",
              "      border-color: transparent;\n",
              "      border-bottom-color: var(--fill-color);\n",
              "    }\n",
              "  }\n",
              "</style>\n",
              "\n",
              "      <script>\n",
              "        async function quickchart(key) {\n",
              "          const quickchartButtonEl =\n",
              "            document.querySelector('#' + key + ' button');\n",
              "          quickchartButtonEl.disabled = true;  // To prevent multiple clicks.\n",
              "          quickchartButtonEl.classList.add('colab-df-spinner');\n",
              "          try {\n",
              "            const charts = await google.colab.kernel.invokeFunction(\n",
              "                'suggestCharts', [key], {});\n",
              "          } catch (error) {\n",
              "            console.error('Error during call to suggestCharts:', error);\n",
              "          }\n",
              "          quickchartButtonEl.classList.remove('colab-df-spinner');\n",
              "          quickchartButtonEl.classList.add('colab-df-quickchart-complete');\n",
              "        }\n",
              "        (() => {\n",
              "          let quickchartButtonEl =\n",
              "            document.querySelector('#df-e62a876e-ac75-45aa-a9e7-7973bd0905de button');\n",
              "          quickchartButtonEl.style.display =\n",
              "            google.colab.kernel.accessAllowed ? 'block' : 'none';\n",
              "        })();\n",
              "      </script>\n",
              "    </div>\n",
              "\n",
              "    </div>\n",
              "  </div>\n"
            ],
            "application/vnd.google.colaboratory.intrinsic+json": {
              "type": "dataframe",
              "variable_name": "df",
              "summary": "{\n  \"name\": \"df\",\n  \"rows\": 50,\n  \"fields\": [\n    {\n      \"column\": \"ID\",\n      \"properties\": {\n        \"dtype\": \"number\",\n        \"std\": 14,\n        \"min\": 1,\n        \"max\": 50,\n        \"num_unique_values\": 50,\n        \"samples\": [\n          14,\n          40,\n          31\n        ],\n        \"semantic_type\": \"\",\n        \"description\": \"\"\n      }\n    },\n    {\n      \"column\": \"Age\",\n      \"properties\": {\n        \"dtype\": \"number\",\n        \"std\": 11,\n        \"min\": 21,\n        \"max\": 59,\n        \"num_unique_values\": 32,\n        \"samples\": [\n          39,\n          57,\n          28\n        ],\n        \"semantic_type\": \"\",\n        \"description\": \"\"\n      }\n    },\n    {\n      \"column\": \"Income\",\n      \"properties\": {\n        \"dtype\": \"number\",\n        \"std\": 21787.471865599407,\n        \"min\": 31016.0,\n        \"max\": 99479.0,\n        \"num_unique_values\": 50,\n        \"samples\": [\n          31016.0,\n          33561.0,\n          32695.0\n        ],\n        \"semantic_type\": \"\",\n        \"description\": \"\"\n      }\n    },\n    {\n      \"column\": \"Education\",\n      \"properties\": {\n        \"dtype\": \"category\",\n        \"num_unique_values\": 3,\n        \"samples\": [\n          \"Postgraduate\",\n          \"High School\",\n          \"Graduate\"\n        ],\n        \"semantic_type\": \"\",\n        \"description\": \"\"\n      }\n    }\n  ]\n}"
            }
          },
          "metadata": {},
          "execution_count": 2
        }
      ]
    },
    {
      "cell_type": "code",
      "source": [
        "df.loc[np.random.choice(df.index, 10, replace=False), \"Income\"] = np.nan\n",
        "df.loc[np.random.choice(df.index, 7, replace=False), \"Age\"] = np.nan\n",
        "\n",
        "print(\"Synthetic Dataset with NaN values:\\n\")\n",
        "print(df.head(20))"
      ],
      "metadata": {
        "colab": {
          "base_uri": "https://localhost:8080/"
        },
        "id": "Jrjwp07qmMad",
        "outputId": "ba94c3a7-6604-48c0-c4ea-615e501b28fe"
      },
      "execution_count": 20,
      "outputs": [
        {
          "output_type": "stream",
          "name": "stdout",
          "text": [
            "Synthetic Dataset with NaN values:\n",
            "\n",
            "    ID   Age   Income     Education  Income_z Age_Bin\n",
            "0    1  58.0  97121.0  Postgraduate  1.469151   45-60\n",
            "1    2  48.0  99479.0  Postgraduate  1.579138   45-60\n",
            "2    3  34.0      NaN   High School -0.754087   25-35\n",
            "3    4  27.0      NaN  Postgraduate       NaN   25-35\n",
            "4    5  40.0  82995.0   High School  0.810259   35-45\n",
            "5    6  58.0  70757.0  Postgraduate  0.239430   45-60\n",
            "6    7   NaN      NaN      Graduate       NaN     NaN\n",
            "7    8  42.0  75758.0  Postgraduate  0.472696   35-45\n",
            "8    9  30.0  95697.0   High School  1.402730   25-35\n",
            "9   10   NaN      NaN   High School       NaN   25-35\n",
            "10  11   NaN  62606.0      Graduate -0.140765     NaN\n",
            "11  12   NaN  41534.0  Postgraduate -1.123647     NaN\n",
            "12  13   NaN  70397.0  Postgraduate  0.222638     NaN\n",
            "13  14   NaN  31016.0      Graduate -1.614248   35-45\n",
            "14  15  22.0  85591.0  Postgraduate  0.931346   18-25\n",
            "15  16  41.0      NaN  Postgraduate       NaN   35-45\n",
            "16  17  21.0  54300.0   High School -0.528190   18-25\n",
            "17  18  43.0  39268.0  Postgraduate -1.229342   35-45\n",
            "18  19  49.0  42185.0  Postgraduate -1.093282   45-60\n",
            "19  20   NaN  93704.0      Graduate  1.309769     NaN\n"
          ]
        }
      ]
    },
    {
      "cell_type": "markdown",
      "source": [
        "Problem 1: Compute (a) mean, (b) median, and (c) age-weighted mean of income. Ignore NaNs where appropriate. Explain when a weighted mean is preferable."
      ],
      "metadata": {
        "id": "18Ms3utFmk1i"
      }
    },
    {
      "cell_type": "code",
      "source": [
        "# Mean of income\n",
        "mean_income = df[\"Income\"].mean(skipna=True)\n",
        "# Median of income\n",
        "median_income = df[\"Income\"].median(skipna=True)\n",
        "# Age-weighted mean of income\n",
        "# Formula: (Σ (Income * Age)) / (Σ Age)\n",
        "age_weighted_mean = (df[\"Income\"] * df[\"Age\"]).sum(skipna=True) / df[\"Age\"].sum(skipna=True)\n"
      ],
      "metadata": {
        "id": "JAqj_NvemTYv"
      },
      "execution_count": 5,
      "outputs": []
    },
    {
      "cell_type": "code",
      "source": [
        "print(\"\\nResults:\")\n",
        "print(f\"Mean Income = {mean_income:.2f}\")\n",
        "print(f\"Median Income = {median_income:.2f}\")\n",
        "print(f\"Age-Weighted Mean Income = {age_weighted_mean:.2f}\")"
      ],
      "metadata": {
        "colab": {
          "base_uri": "https://localhost:8080/"
        },
        "id": "sqHxvzs7myRt",
        "outputId": "9d73aea0-c48e-4eff-81fb-da0b448e3e7e"
      },
      "execution_count": 6,
      "outputs": [
        {
          "output_type": "stream",
          "name": "stdout",
          "text": [
            "\n",
            "Results:\n",
            "Mean Income = 65623.87\n",
            "Median Income = 68571.50\n",
            "Age-Weighted Mean Income = 48075.27\n"
          ]
        }
      ]
    },
    {
      "cell_type": "markdown",
      "source": [
        "Q Explain when a weighted mean is preferable.\n",
        "\n",
        "Ans.Use weighted mean when some data points should matter more than others."
      ],
      "metadata": {
        "id": "szDT6rxxm5Ss"
      }
    },
    {
      "cell_type": "markdown",
      "source": [
        "Problem 2: Standardize income (z-score). Report how many incomes are outliers using rule |z|> 3. Handle NaNs correctly (do not drop entire rows unnecessarily)."
      ],
      "metadata": {
        "id": "4LiGOPWOncdD"
      }
    },
    {
      "cell_type": "code",
      "source": [
        "# Z-score standardization\n",
        "mean_income = df[\"Income\"].mean(skipna=True)\n",
        "std_income = df[\"Income\"].std(skipna=True)\n",
        "# Compute z-scores for Income\n",
        "df[\"Income_z\"] = (df[\"Income\"] - mean_income) / std_income\n",
        "# Identify outliers using |z| > 3\n",
        "outliers = df[(df[\"Income_z\"].abs() > 3)]"
      ],
      "metadata": {
        "id": "KzK75J6km0dN"
      },
      "execution_count": 8,
      "outputs": []
    },
    {
      "cell_type": "code",
      "source": [
        "print(\"\\nStandardized Income (z-scores):\\n\")\n",
        "print(df[[\"ID\", \"Income\", \"Income_z\"]].head(15))\n",
        "\n",
        "print(f\"\\nNumber of outliers = {outliers.shape[0]}\")\n",
        "print(\"\\nOutlier Rows:\\n\")\n",
        "print(outliers)"
      ],
      "metadata": {
        "colab": {
          "base_uri": "https://localhost:8080/"
        },
        "id": "pYFjZgbpnsxt",
        "outputId": "146ba179-023a-469f-c0a8-c594a1bd2472"
      },
      "execution_count": 10,
      "outputs": [
        {
          "output_type": "stream",
          "name": "stdout",
          "text": [
            "\n",
            "Standardized Income (z-scores):\n",
            "\n",
            "    ID   Income  Income_z\n",
            "0    1  97121.0  1.469151\n",
            "1    2  99479.0  1.579138\n",
            "2    3  49457.0 -0.754087\n",
            "3    4      NaN       NaN\n",
            "4    5  82995.0  0.810259\n",
            "5    6  70757.0  0.239430\n",
            "6    7      NaN       NaN\n",
            "7    8  75758.0  0.472696\n",
            "8    9  95697.0  1.402730\n",
            "9   10      NaN       NaN\n",
            "10  11  62606.0 -0.140765\n",
            "11  12  41534.0 -1.123647\n",
            "12  13  70397.0  0.222638\n",
            "13  14  31016.0 -1.614248\n",
            "14  15  85591.0  0.931346\n",
            "\n",
            "Number of outliers = 0\n",
            "\n",
            "Outlier Rows:\n",
            "\n",
            "Empty DataFrame\n",
            "Columns: [ID, Age, Income, Education, Income_z]\n",
            "Index: []\n"
          ]
        }
      ]
    },
    {
      "cell_type": "markdown",
      "source": [
        "Problem 3: Create age bins: [18-25), [25-35), [35-45), [45-60) and compute for each bin: ● count of observations, ● mean income, ● median score. Show result as a tidy DataFrame sorted by age bin."
      ],
      "metadata": {
        "id": "vsvrGIXzoGVN"
      }
    },
    {
      "cell_type": "code",
      "source": [
        "bins = [18, 25, 35, 45, 60]\n",
        "labels = [\"18-25\", \"25-35\", \"35-45\", \"45-60\"]\n",
        "\n",
        "df[\"Age_Bin\"] = pd.cut(df[\"Age\"], bins=bins, labels=labels, right=False)\n",
        "result = df.groupby(\"Age_Bin\").agg(\n",
        "    Count=(\"Income\", \"count\"),\n",
        "    Mean_Income=(\"Income\", \"mean\"),\n",
        "    Median_Income=(\"Income\", \"median\")\n",
        ").reset_index()\n",
        "result = result.sort_values(\"Age_Bin\").reset_index(drop=True)"
      ],
      "metadata": {
        "colab": {
          "base_uri": "https://localhost:8080/"
        },
        "id": "hG4VO09On31c",
        "outputId": "4ae9b624-8c9e-44be-abf6-688a986c2e71"
      },
      "execution_count": 11,
      "outputs": [
        {
          "output_type": "stream",
          "name": "stderr",
          "text": [
            "/tmp/ipython-input-2008983469.py:5: FutureWarning: The default of observed=False is deprecated and will be changed to True in a future version of pandas. Pass observed=False to retain current behavior or observed=True to adopt the future default and silence this warning.\n",
            "  result = df.groupby(\"Age_Bin\").agg(\n"
          ]
        }
      ]
    },
    {
      "cell_type": "code",
      "source": [
        "print(\"\\nResult by Age Bin:\\n\")\n",
        "print(result)"
      ],
      "metadata": {
        "colab": {
          "base_uri": "https://localhost:8080/"
        },
        "id": "h6evbsOuoS2T",
        "outputId": "2cd834a0-1320-47bc-ce70-f3a0e9ae5388"
      },
      "execution_count": 12,
      "outputs": [
        {
          "output_type": "stream",
          "name": "stdout",
          "text": [
            "\n",
            "Result by Age Bin:\n",
            "\n",
            "  Age_Bin  Count  Mean_Income  Median_Income\n",
            "0   18-25      5    66781.400        69099.0\n",
            "1   25-35      8    65553.750        61847.0\n",
            "2   35-45      9    62503.000        69504.0\n",
            "3   45-60      8    68580.625        69400.5\n"
          ]
        }
      ]
    },
    {
      "cell_type": "markdown",
      "source": [
        "Problem 4: Create an array it cannot be of 1 Dimension. And then showcase the operation for the following: ● Shape and Resize → shape, size, Transpose, Flatten ● Showcasing negative indexing and display error while doing slicing ● Arithmetic Operations → Broadcasting, Dot Product ● Linear Algebra → Determinant, Inverse"
      ],
      "metadata": {
        "id": "8WOQ2puuosaC"
      }
    },
    {
      "cell_type": "code",
      "source": [
        "arr = np.array([[1, 2, 3],\n",
        "                [4, 5, 6],\n",
        "                [7, 8, 9]], dtype=float)\n",
        "print(\"Original Array:\\n\", arr)"
      ],
      "metadata": {
        "colab": {
          "base_uri": "https://localhost:8080/"
        },
        "id": "9R-IAA1codK3",
        "outputId": "dbcf7bbb-8d10-4b4c-87ad-d01db3f0e65e"
      },
      "execution_count": 13,
      "outputs": [
        {
          "output_type": "stream",
          "name": "stdout",
          "text": [
            "Original Array:\n",
            " [[1. 2. 3.]\n",
            " [4. 5. 6.]\n",
            " [7. 8. 9.]]\n"
          ]
        }
      ]
    },
    {
      "cell_type": "code",
      "source": [
        "# Shape and Resize\n",
        "print(\"\\nShape of array:\", arr.shape)\n",
        "print(\"Size of array:\", arr.size)\n",
        "print(\"Transpose of array:\\n\", arr.T)\n",
        "print(\"Flattened array:\\n\", arr.flatten())"
      ],
      "metadata": {
        "colab": {
          "base_uri": "https://localhost:8080/"
        },
        "id": "KWEWOJ0YojiZ",
        "outputId": "d9b5416d-9082-4697-f4ca-518e842fa1aa"
      },
      "execution_count": 16,
      "outputs": [
        {
          "output_type": "stream",
          "name": "stdout",
          "text": [
            "\n",
            "Shape of array: (3, 3)\n",
            "Size of array: 9\n",
            "Transpose of array:\n",
            " [[1. 4. 7.]\n",
            " [2. 5. 8.]\n",
            " [3. 6. 9.]]\n",
            "Flattened array:\n",
            " [1. 2. 3. 4. 5. 6. 7. 8. 9.]\n"
          ]
        }
      ]
    },
    {
      "cell_type": "code",
      "source": [
        "# Negative Indexing\n",
        "print(\"\\nLast row using negative indexing:\", arr[-1])\n",
        "print(\"Last element using negative indexing:\", arr[-1, -1])"
      ],
      "metadata": {
        "colab": {
          "base_uri": "https://localhost:8080/"
        },
        "id": "LnoQEVT2omAo",
        "outputId": "2214a509-74c3-4d23-d2b3-3d3361c9bbe4"
      },
      "execution_count": 17,
      "outputs": [
        {
          "output_type": "stream",
          "name": "stdout",
          "text": [
            "\n",
            "Last row using negative indexing: [7. 8. 9.]\n",
            "Last element using negative indexing: 9.0\n"
          ]
        }
      ]
    },
    {
      "cell_type": "code",
      "source": [
        "# Error in slicing\n",
        "try:\n",
        "    print(arr[-5])\n",
        "except IndexError as e:\n",
        "    print(\"\\nIndexError:\", e)"
      ],
      "metadata": {
        "colab": {
          "base_uri": "https://localhost:8080/"
        },
        "id": "1kMfb3Tio3G2",
        "outputId": "2c4d8e7b-9ef9-4cea-dfd5-b82fc342101b"
      },
      "execution_count": 18,
      "outputs": [
        {
          "output_type": "stream",
          "name": "stdout",
          "text": [
            "\n",
            "IndexError: index -5 is out of bounds for axis 0 with size 3\n"
          ]
        }
      ]
    },
    {
      "cell_type": "code",
      "source": [
        "# Arithmetic Operations\n",
        "# Broadcasting (adding scalar)\n",
        "print(\"\\nBroadcasting (arr + 5):\\n\", arr + 5)\n",
        "\n",
        "# Dot product (matrix multiplication)\n",
        "dot_product = np.dot(arr, arr)\n",
        "print(\"\\nDot Product (arr x arr):\\n\", dot_product)\n",
        "\n",
        "# Linear Algebra Operations\n",
        "det = np.linalg.det(arr)\n",
        "print(\"\\nDeterminant:\", det)\n",
        "\n",
        "# Inverse (only if determinant != 0)\n",
        "if det != 0:\n",
        "    inv = np.linalg.inv(arr)\n",
        "    print(\"Inverse:\\n\", inv)\n",
        "else:\n",
        "    print(\"Matrix is singular, inverse does not exist\")"
      ],
      "metadata": {
        "colab": {
          "base_uri": "https://localhost:8080/"
        },
        "id": "Xpw7qTPEo4Mw",
        "outputId": "6a5a948e-7cf8-4a4b-cd78-4589e99002d6"
      },
      "execution_count": 19,
      "outputs": [
        {
          "output_type": "stream",
          "name": "stdout",
          "text": [
            "\n",
            "Broadcasting (arr + 5):\n",
            " [[ 6.  7.  8.]\n",
            " [ 9. 10. 11.]\n",
            " [12. 13. 14.]]\n",
            "\n",
            "Dot Product (arr x arr):\n",
            " [[ 30.  36.  42.]\n",
            " [ 66.  81.  96.]\n",
            " [102. 126. 150.]]\n",
            "\n",
            "Determinant: 0.0\n",
            "Matrix is singular, inverse does not exist\n"
          ]
        }
      ]
    }
  ]
}