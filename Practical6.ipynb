{
  "nbformat": 4,
  "nbformat_minor": 0,
  "metadata": {
    "colab": {
      "provenance": []
    },
    "kernelspec": {
      "name": "python3",
      "display_name": "Python 3"
    },
    "language_info": {
      "name": "python"
    }
  },
  "cells": [
    {
      "cell_type": "markdown",
      "source": [
        "\n",
        "Q1. T-Test: Using the teachers' rating data set, does gender affect teaching evaluation rates?"
      ],
      "metadata": {
        "id": "nV5xJ0VLX4m4"
      }
    },
    {
      "cell_type": "code",
      "execution_count": 9,
      "metadata": {
        "colab": {
          "base_uri": "https://localhost:8080/"
        },
        "id": "FgKshBB2V_7P",
        "outputId": "1d5c9d18-42b2-427c-8ab5-82d65ae5f0a3"
      },
      "outputs": [
        {
          "output_type": "stream",
          "name": "stdout",
          "text": [
            "      prof  gender  beauty  students tenure  rating  age division\n",
            "0  Prof_52  Female    2.33        74     No    4.01   42    Upper\n",
            "1  Prof_93  Female    3.68       155    Yes    3.29   54    Upper\n",
            "2  Prof_15  Female    3.03       233     No    3.15   65    Lower\n",
            "3  Prof_72  Female    2.90       248     No    4.51   56    Upper\n",
            "4  Prof_61    Male    2.91       186     No    4.48   67    Upper\n",
            "\n",
            "T-Test Results:\n",
            "t-statistic = 0.242\n",
            "p-value = 0.8088\n",
            " Gender does NOT have a significant effect on teaching evaluation ratings.\n"
          ]
        }
      ],
      "source": [
        "import pandas as pd\n",
        "from scipy.stats import ttest_ind\n",
        "import seaborn as sns\n",
        "import matplotlib.pyplot as plt\n",
        "import warnings\n",
        "warnings.filterwarnings('ignore')\n",
        "\n",
        "df = pd.read_csv(\"data.csv\")\n",
        "\n",
        "print(df.head())\n",
        "\n",
        "male_ratings = df[df[\"gender\"] == \"Male\"][\"rating\"]\n",
        "female_ratings = df[df[\"gender\"] == \"Female\"][\"rating\"]\n",
        "\n",
        "t_stat, p_value = ttest_ind(male_ratings, female_ratings, equal_var=False)\n",
        "\n",
        "print(\"\\nT-Test Results:\")\n",
        "print(f\"t-statistic = {t_stat:.3f}\")\n",
        "print(f\"p-value = {p_value:.4f}\")\n",
        "\n",
        "if p_value < 0.05:\n",
        "    print(\"Gender has a significant effect on teaching evaluation ratings.\")\n",
        "else:\n",
        "    print(\" Gender does NOT have a significant effect on teaching evaluation ratings.\")\n",
        "\n"
      ]
    },
    {
      "cell_type": "markdown",
      "source": [
        "Q2. ANOVA: Using the teachers' rating data set, does beauty score for instructors differ by age?"
      ],
      "metadata": {
        "id": "djhS-GzpX7l1"
      }
    },
    {
      "cell_type": "code",
      "source": [
        "df = pd.read_csv(\"data.csv\")\n",
        "\n",
        "bins = [20, 35, 45, 55, 65, 80]\n",
        "labels = ['21–35', '36–45', '46–55', '56–65', '66+']\n",
        "df['age_group'] = pd.cut(df['age'], bins=bins, labels=labels, include_lowest=True)\n",
        "\n",
        "print(df.groupby('age_group')['beauty'].describe())\n",
        "\n",
        "groups = [group['beauty'].values for name, group in df.groupby('age_group')]\n",
        "f_stat, p_value = f_oneway(*groups)\n",
        "\n",
        "print(\"\\nANOVA Results:\")\n",
        "print(f\"F-statistic = {f_stat:.3f}\")\n",
        "print(f\"p-value = {p_value:.4f}\")\n",
        "\n",
        "if p_value < 0.05:\n",
        "    print(\" Beauty scores differ significantly across age groups.\")\n",
        "else:\n",
        "    print(\"No significant difference in beauty scores across age groups.\")\n",
        "\n",
        "\n"
      ],
      "metadata": {
        "colab": {
          "base_uri": "https://localhost:8080/"
        },
        "id": "nqCIxI1PW29i",
        "outputId": "7b958ee0-8019-4d6f-bd9c-76ac10d19c85"
      },
      "execution_count": 13,
      "outputs": [
        {
          "output_type": "stream",
          "name": "stdout",
          "text": [
            "           count      mean       std   min     25%   50%     75%   max\n",
            "age_group                                                             \n",
            "21–35       23.0  3.132609  0.526879  2.33  2.8150  3.06  3.3750  4.64\n",
            "36–45       53.0  3.118302  0.712079  1.60  2.6700  3.04  3.6100  4.67\n",
            "46–55       48.0  3.113750  0.701605  1.54  2.6375  3.25  3.6450  4.48\n",
            "56–65       60.0  3.220333  0.703695  1.75  2.7700  3.14  3.8175  4.59\n",
            "66+         16.0  2.732500  0.695303  1.66  2.0800  2.85  3.2525  3.75\n",
            "\n",
            "ANOVA Results:\n",
            "F-statistic = 1.595\n",
            "p-value = 0.1773\n",
            "No significant difference in beauty scores across age groups.\n"
          ]
        }
      ]
    },
    {
      "cell_type": "markdown",
      "source": [
        "Q3. Chi-square: Using the teachers' rating data set, is there an association between tenure and gender?"
      ],
      "metadata": {
        "id": "m7pSdAeyX-9k"
      }
    },
    {
      "cell_type": "code",
      "source": [
        "import scipy.stats as stats\n",
        "\n",
        "contingency_table = pd.crosstab(df['tenure'], df['gender'])\n",
        "chi2, p, dof, expected = stats.chi2_contingency(contingency_table)\n",
        "print(\"Chi-square:\", chi2)\n",
        "print(\"P-Value:\", p)"
      ],
      "metadata": {
        "colab": {
          "base_uri": "https://localhost:8080/"
        },
        "id": "Z_3dvloBX2Wt",
        "outputId": "b5f7b9a0-8813-44e5-ca94-7361f777bea8"
      },
      "execution_count": 11,
      "outputs": [
        {
          "output_type": "stream",
          "name": "stdout",
          "text": [
            "Chi-square: 0.16643951070180574\n",
            "P-Value: 0.6832957091218376\n"
          ]
        }
      ]
    },
    {
      "cell_type": "markdown",
      "source": [
        "Q4. Correlation: Using the teachers rating dataset, Is teaching evaluation score correlated with beauty score?"
      ],
      "metadata": {
        "id": "nvQYTO8BYC12"
      }
    },
    {
      "cell_type": "code",
      "source": [
        "from scipy.stats import pearsonr\n",
        "\n",
        "corr, p_val = pearsonr(df['rating'], df['beauty'])\n",
        "print(\"Correlation Coefficient:\", corr)\n",
        "print(\"P-Value:\", p_val)\n"
      ],
      "metadata": {
        "colab": {
          "base_uri": "https://localhost:8080/"
        },
        "id": "OL6HNggwYGe9",
        "outputId": "90bcf4f9-9a0c-4214-c16b-5b30fec20902"
      },
      "execution_count": 12,
      "outputs": [
        {
          "output_type": "stream",
          "name": "stdout",
          "text": [
            "Correlation Coefficient: -0.035419703792166836\n",
            "P-Value: 0.6185356295417996\n"
          ]
        }
      ]
    }
  ]
}