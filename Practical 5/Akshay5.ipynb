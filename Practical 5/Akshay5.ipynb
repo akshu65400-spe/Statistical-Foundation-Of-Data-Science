{
  "nbformat": 4,
  "nbformat_minor": 0,
  "metadata": {
    "colab": {
      "provenance": []
    },
    "kernelspec": {
      "name": "python3",
      "display_name": "Python 3"
    },
    "language_info": {
      "name": "python"
    }
  },
  "cells": [
    {
      "cell_type": "markdown",
      "source": [
        "\n",
        "Q1. Using the teachers' rating dataset, what is the probability of receiving an evaluation score of greater than 4.5"
      ],
      "metadata": {
        "id": "iYljh_DsFRJW"
      }
    },
    {
      "cell_type": "code",
      "execution_count": null,
      "metadata": {
        "colab": {
          "base_uri": "https://localhost:8080/"
        },
        "id": "f34pHwmTFN_N",
        "outputId": "e67b4237-48be-4be8-a24e-e156f09d02ab"
      },
      "outputs": [
        {
          "output_type": "stream",
          "name": "stdout",
          "text": [
            "      prof  gender  beauty  students tenure  rating  age division\n",
            "0  Prof_52  Female    2.33        74     No    4.01   42    Upper\n",
            "1  Prof_93  Female    3.68       155    Yes    3.29   54    Upper\n",
            "2  Prof_15  Female    3.03       233     No    3.15   65    Lower\n",
            "3  Prof_72  Female    2.90       248     No    4.51   56    Upper\n",
            "4  Prof_61    Male    2.91       186     No    4.48   67    Upper\n",
            "Index(['prof', 'gender', 'beauty', 'students', 'tenure', 'rating', 'age',\n",
            "       'division'],\n",
            "      dtype='object')\n",
            "Total observations: 200\n",
            "Scores > 4.5: 42\n",
            "Probability of receiving an rating > 4.5: 0.2100\n"
          ]
        }
      ],
      "source": [
        "import pandas as pd\n",
        "\n",
        "df = pd.read_csv(\"data.csv\")\n",
        "\n",
        "print(df.head())\n",
        "\n",
        "print(df.columns)\n",
        "\n",
        "score_col = 'rating'\n",
        "\n",
        "df = df.dropna(subset=[score_col])\n",
        "\n",
        "total = len(df)\n",
        "greater_than_4_5 = len(df[df[score_col] > 4.5])\n",
        "probability = greater_than_4_5 / total\n",
        "\n",
        "print(f\"Total observations: {total}\")\n",
        "print(f\"Scores > 4.5: {greater_than_4_5}\")\n",
        "print(f\"Probability of receiving an rating > 4.5: {probability:.4f}\")\n"
      ]
    },
    {
      "cell_type": "markdown",
      "source": [
        "Q2. Using the teachers' rating dataset, what is the probability of receiving an evaluation score greater than 3.5 and less than 4.2"
      ],
      "metadata": {
        "id": "D3lqwaqCFVHs"
      }
    },
    {
      "cell_type": "code",
      "source": [
        "import pandas as pd\n",
        "\n",
        "data = pd.read_csv(\"data.csv\")\n",
        "\n",
        "print(data.head())\n",
        "\n",
        "ratings = data['rating']\n",
        "\n",
        "prob = ((ratings > 3.5) & (ratings < 4.2)).mean()\n",
        "\n",
        "print(f\"Probability of receiving an evaluation score between 3.5 and 4.2: {prob:.4f}\")"
      ],
      "metadata": {
        "colab": {
          "base_uri": "https://localhost:8080/"
        },
        "id": "moUcwdTAFYrO",
        "outputId": "3210b429-a5ab-4b6f-fd64-60e23c50b2b2"
      },
      "execution_count": null,
      "outputs": [
        {
          "output_type": "stream",
          "name": "stdout",
          "text": [
            "      prof  gender  beauty  students tenure  rating  age division\n",
            "0  Prof_52  Female    2.33        74     No    4.01   42    Upper\n",
            "1  Prof_93  Female    3.68       155    Yes    3.29   54    Upper\n",
            "2  Prof_15  Female    3.03       233     No    3.15   65    Lower\n",
            "3  Prof_72  Female    2.90       248     No    4.51   56    Upper\n",
            "4  Prof_61    Male    2.91       186     No    4.48   67    Upper\n",
            "Probability of receiving an evaluation score between 3.5 and 4.2: 0.4850\n"
          ]
        }
      ]
    },
    {
      "cell_type": "markdown",
      "source": [
        "Q3. Using the two-tailed test from a normal distribution:\n",
        "1. A professional basketball team wants to compare its performance with that of players in a regional league.\n",
        "2. The pros are known to have a historic mean of 12 points per game with a standard deviation of 5.5.\n",
        "3. A group of 36 regional players recorded on average 10.7 points per game.\n",
        "4. The pro coach would like to know whether his professional team scores on average are different from that of the regional players.\n",
        "State the null hypothesis\n",
        "Null Hypo: (\"The mean point of the regional players is not different from the historic mean\")\n",
        "Alternative Hypo: (\"The mean point of the regional players is different from the historic mean\")"
      ],
      "metadata": {
        "id": "zfoUr2FYFbcW"
      }
    },
    {
      "cell_type": "code",
      "source": [
        "import math\n",
        "from scipy.stats import norm\n",
        "\n",
        "\n",
        "mu = 12\n",
        "sigma = 5.5\n",
        "x_bar = 10.7\n",
        "n = 36\n",
        "\n",
        "z = (x_bar - mu) / (sigma / math.sqrt(n))\n",
        "\n",
        "p_value = 2 * (1 - norm.cdf(abs(z)))\n",
        "\n",
        "print(f\"Z-score: {z:.3f}\")\n",
        "print(f\"P-value (two-tailed): {p_value:.4f}\")\n",
        "\n",
        "if p_value < 0.05:\n",
        "    print(\"Reject the null hypothesis: Regional players differ significantly from pros.\")\n",
        "else:\n",
        "    print(\"Fail to reject the null hypothesis: No significant difference in performance.\")\n"
      ],
      "metadata": {
        "colab": {
          "base_uri": "https://localhost:8080/"
        },
        "id": "7SkhEE50Fe2x",
        "outputId": "f3b44cea-2e81-47d2-af52-39e367aa82c5"
      },
      "execution_count": null,
      "outputs": [
        {
          "output_type": "stream",
          "name": "stdout",
          "text": [
            "Z-score: -1.418\n",
            "P-value (two-tailed): 0.1561\n",
            "Fail to reject the null hypothesis: No significant difference in performance.\n"
          ]
        }
      ]
    }
  ]
}